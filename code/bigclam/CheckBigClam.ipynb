{
 "cells": [
  {
   "cell_type": "code",
   "execution_count": 1,
   "metadata": {
    "collapsed": true
   },
   "outputs": [],
   "source": [
    "import os\n",
    "import sys\n",
    "import numpy as np\n",
    "import pandas as pd\n",
    "import matplotlib.dates as mdates\n",
    "\n",
    "from dateutil import parser\n",
    "from matplotlib import pyplot as plt\n",
    "\n",
    "names = \"M11,M12,M13,M14,M15,M16,M21,M22,M23,M24,M25,M26,M31,M32,M33,M34,M35,M36,M41,M42,M43,M44,M45,M46,M51,M52,M53,M54,M55,M56,M61,M62,M63,M64,M65,M66\".split(\",\")\n",
    "names_of_motives = dict(zip(map(str,range(1,len(names)+1)),names))\n",
    "\n",
    "% matplotlib inline "
   ]
  },
  {
   "cell_type": "code",
   "execution_count": 2,
   "metadata": {},
   "outputs": [
    {
     "data": {
      "text/plain": [
       "['CheckBigClam-Copy1.ipynb',\n",
       " '.DS_Store',\n",
       " 'graph-dynamics',\n",
       " 'CheckBigClam-Copy2.ipynb',\n",
       " '.ipynb_checkpoints',\n",
       " 'data',\n",
       " 'CheckBigClam.ipynb']"
      ]
     },
     "execution_count": 2,
     "metadata": {},
     "output_type": "execute_result"
    }
   ],
   "source": [
    "os.listdir(\".\")"
   ]
  },
  {
   "cell_type": "code",
   "execution_count": 10,
   "metadata": {
    "collapsed": true
   },
   "outputs": [],
   "source": [
    "# !head 'daymodel122_gGD_0_.bigclam-c-1000f_matrix.txt'"
   ]
  },
  {
   "cell_type": "code",
   "execution_count": 65,
   "metadata": {},
   "outputs": [],
   "source": [
    "file1 = \"data/daymodel122_gGD_0_.bigclam-c-1000f_matrix.txt\"\n",
    "file2 = \"data/daymodel165_gGD_0_.bigclam-c-1000f_matrix.txt\"\n",
    "file3 = \"data/daymodel210_gGD_0_.bigclam-c-1000f_matrix.txt\"\n",
    "file4 = \"data/activitydrivenBigclam151574987200_gGD_0_.matrixf_matrix.txt\"\n",
    "file5= \"data/memoryallBigclam151575059300_gGD_0_.matrixf_matrix.txt\"\n",
    "\n",
    "file_open = file5\n",
    "\n",
    "f = open(file_open)\n",
    "WEIGHTS = []\n",
    "i = 0\n",
    "for line in f:\n",
    "    WEIGHTS.append(max(map(float,line.split())))\n",
    "    i+=1\n",
    "f.close()"
   ]
  },
  {
   "cell_type": "code",
   "execution_count": 66,
   "metadata": {},
   "outputs": [
    {
     "data": {
      "text/plain": [
       "0.762093044"
      ]
     },
     "execution_count": 66,
     "metadata": {},
     "output_type": "execute_result"
    }
   ],
   "source": [
    "np.asarray(WEIGHTS).mean()"
   ]
  },
  {
   "cell_type": "code",
   "execution_count": 67,
   "metadata": {
    "scrolled": true
   },
   "outputs": [
    {
     "data": {
      "image/png": "[encoded data removed]",
      "text/plain": [
       "<matplotlib.figure.Figure at 0x106a01f90>"
      ]
     },
     "metadata": {},
     "output_type": "display_data"
    }
   ],
   "source": [
    "stuff = plt.hist(WEIGHTS,range=(0.02,1.5),bins=100)\n",
    "# plt.yscale(\"log\")\n",
    "# plt.xscale(\"log\")"
   ]
  },
  {
   "cell_type": "code",
   "execution_count": 68,
   "metadata": {},
   "outputs": [
    {
     "data": {
      "image/png": "[encoded data removed]",
      "text/plain": [
       "<matplotlib.figure.Figure at 0x10c959e50>"
      ]
     },
     "metadata": {},
     "output_type": "display_data"
    }
   ],
   "source": [
    "a, b, c = stuff\n",
    "b = b[:-1]\n",
    "plt.figure(figsize=(24,12))\n",
    "plt.title(\"Weights Distribution\")\n",
    "plt.plot(a,b,\"o\")\n",
    "plt.yscale(\"log\")\n",
    "plt.xscale(\"log\")\n",
    "\n",
    "plt.savefig(file_open.replace(\".txt\", \".png\"))"
   ]
  },
  {
   "cell_type": "code",
   "execution_count": 69,
   "metadata": {
    "collapsed": true
   },
   "outputs": [],
   "source": [
    "from scipy import stats\n",
    "from scipy.stats import norm, pareto, lognorm, gamma, weibull_min, weibull_max, gengamma, expon\n",
    "import numpy as np\n",
    "from scipy.stats import kstest"
   ]
  },
  {
   "cell_type": "code",
   "execution_count": 70,
   "metadata": {
    "collapsed": true
   },
   "outputs": [],
   "source": [
    "WEIGHTS = [a for a in WEIGHTS if a > 0.02]"
   ]
  },
  {
   "cell_type": "code",
   "execution_count": 71,
   "metadata": {},
   "outputs": [
    {
     "name": "stdout",
     "output_type": "stream",
     "text": [
      "0.132319092115\n",
      "0.0\n"
     ]
    }
   ],
   "source": [
    "parameters = stats.norm.fit(WEIGHTS)\n",
    "kt0, p_value0 =  kstest(WEIGHTS,\"norm\",parameters)\n",
    "print kt0\n",
    "print p_value0"
   ]
  },
  {
   "cell_type": "code",
   "execution_count": 72,
   "metadata": {},
   "outputs": [
    {
     "name": "stdout",
     "output_type": "stream",
     "text": [
      "0.131860953637\n",
      "0.0\n"
     ]
    }
   ],
   "source": [
    "parameters = stats.lognorm.fit(WEIGHTS)\n",
    "kt1, p_value1 =  kstest(WEIGHTS,\"lognorm\",parameters)\n",
    "print kt1\n",
    "print p_value1"
   ]
  },
  {
   "cell_type": "code",
   "execution_count": 73,
   "metadata": {},
   "outputs": [
    {
     "name": "stdout",
     "output_type": "stream",
     "text": [
      "0.382039490922\n",
      "0.0\n"
     ]
    }
   ],
   "source": [
    "parameters = stats.pareto.fit(WEIGHTS)\n",
    "kt2, p_value2 =  kstest(WEIGHTS,\"pareto\",parameters)\n",
    "print kt2\n",
    "print p_value2"
   ]
  },
  {
   "cell_type": "code",
   "execution_count": 74,
   "metadata": {},
   "outputs": [
    {
     "name": "stdout",
     "output_type": "stream",
     "text": [
      "0.131894470667\n",
      "0.0\n"
     ]
    }
   ],
   "source": [
    "parameters = stats.gamma.fit(WEIGHTS)\n",
    "kt3, p_value3 =  kstest(WEIGHTS,\"gamma\",parameters)\n",
    "print kt3\n",
    "print p_value3"
   ]
  },
  {
   "cell_type": "code",
   "execution_count": null,
   "metadata": {
    "collapsed": true
   },
   "outputs": [],
   "source": []
  },
  {
   "cell_type": "code",
   "execution_count": null,
   "metadata": {
    "collapsed": true
   },
   "outputs": [],
   "source": []
  },
  {
   "cell_type": "code",
   "execution_count": null,
   "metadata": {
    "collapsed": true
   },
   "outputs": [],
   "source": []
  },
  {
   "cell_type": "code",
   "execution_count": null,
   "metadata": {
    "collapsed": true
   },
   "outputs": [],
   "source": []
  },
  {
   "cell_type": "code",
   "execution_count": 29,
   "metadata": {
    "collapsed": true
   },
   "outputs": [],
   "source": [
    "a = \"https://en.wikipedia.org/wiki/Kolmogorov%E2%80%93Smirnov_test\""
   ]
  },
  {
   "cell_type": "code",
   "execution_count": null,
   "metadata": {
    "collapsed": true
   },
   "outputs": [],
   "source": []
  },
  {
   "cell_type": "code",
   "execution_count": null,
   "metadata": {
    "collapsed": true
   },
   "outputs": [],
   "source": []
  },
  {
   "cell_type": "code",
   "execution_count": null,
   "metadata": {
    "collapsed": true
   },
   "outputs": [],
   "source": []
  },
  {
   "cell_type": "code",
   "execution_count": null,
   "metadata": {
    "collapsed": true
   },
   "outputs": [],
   "source": []
  },
  {
   "cell_type": "markdown",
   "metadata": {},
   "source": [
    "$$\n",
    "\\rho_{uv} = 1 - e^{-F_{uc} F_{vc}}\n",
    "$$\n",
    "\n",
    "$$\n",
    "P(A|\\rho)= \\prod_{j<i}p_{ij}^{A_{ij}}(1-p_{ij})^{1-A_{ij}}\n",
    "$$\n"
   ]
  },
  {
   "cell_type": "code",
   "execution_count": null,
   "metadata": {
    "collapsed": true
   },
   "outputs": [],
   "source": []
  },
  {
   "cell_type": "code",
   "execution_count": null,
   "metadata": {
    "collapsed": true
   },
   "outputs": [],
   "source": []
  }
 ],
 "metadata": {
  "kernelspec": {
   "display_name": "Python 2",
   "language": "python",
   "name": "python2"
  },
  "language_info": {
   "codemirror_mode": {
    "name": "ipython",
    "version": 2
   },
   "file_extension": ".py",
   "mimetype": "text/x-python",
   "name": "python",
   "nbconvert_exporter": "python",
   "pygments_lexer": "ipython2",
   "version": "2.7.14"
  }
 },
 "nbformat": 4,
 "nbformat_minor": 2
}
